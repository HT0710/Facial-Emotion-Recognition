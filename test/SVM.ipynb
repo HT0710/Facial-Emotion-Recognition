{
 "cells": [
  {
   "cell_type": "code",
   "execution_count": 1,
   "id": "1b554f0b-59d1-48f8-a4e4-e26c827dd1eb",
   "metadata": {},
   "outputs": [],
   "source": [
    "import cv2 as cv\n",
    "import numpy as np"
   ]
  },
  {
   "cell_type": "code",
   "execution_count": 2,
   "id": "24b31bfa-8fc5-4cd7-a011-bdfb30261d8c",
   "metadata": {},
   "outputs": [],
   "source": [
    "# Set up training data\n",
    "labels = np.array([1, -1, -1, -1])\n",
    "trainingData = np.matrix([[501, 10], [255, 10], [501, 255], [10, 501]], dtype=np.float32)"
   ]
  },
  {
   "cell_type": "code",
   "execution_count": 3,
   "id": "b1a973be-b93e-42e4-a657-a3d3f263868a",
   "metadata": {},
   "outputs": [
    {
     "data": {
      "text/plain": "True"
     },
     "execution_count": 3,
     "metadata": {},
     "output_type": "execute_result"
    }
   ],
   "source": [
    "# Train the SVM\n",
    "svm = cv.ml.SVM_create()\n",
    "svm.setType(cv.ml.SVM_C_SVC)\n",
    "svm.setKernel(cv.ml.SVM_LINEAR)\n",
    "svm.setTermCriteria((cv.TERM_CRITERIA_MAX_ITER, 100, 1e-6))\n",
    "svm.train(trainingData, cv.ml.ROW_SAMPLE, labels)"
   ]
  },
  {
   "cell_type": "code",
   "execution_count": 4,
   "id": "7cc3557c-becf-45ef-92ea-871ea0fe718b",
   "metadata": {},
   "outputs": [],
   "source": [
    "# Data for visual representation\n",
    "width = 512\n",
    "height = 512\n",
    "image = np.zeros((height, width, 3), dtype=np.uint8)\n",
    "cv.imshow(\"test\", image)"
   ]
  },
  {
   "cell_type": "code",
   "execution_count": 5,
   "id": "2ea93671-ff59-447d-afd4-31b3c0be38cd",
   "metadata": {},
   "outputs": [],
   "source": [
    "# Show the decision regions given by the SVM\n",
    "green = (0,255,0)\n",
    "blue = (255,0,0)\n",
    "for i in range(image.shape[0]):\n",
    "    for j in range(image.shape[1]):\n",
    "        sampleMat = np.matrix([[j,i]], dtype=np.float32)\n",
    "        response = svm.predict(sampleMat)[1]\n",
    "        if response == 1:\n",
    "            image[i,j] = green\n",
    "        elif response == -1:\n",
    "            image[i,j] = blue"
   ]
  },
  {
   "cell_type": "code",
   "execution_count": 6,
   "id": "cccb8c0f-fb42-4b96-8ffe-3fb9db1296c9",
   "metadata": {},
   "outputs": [
    {
     "data": {
      "text/plain": "array([[[255,   0,   0],\n        [255,   0,   0],\n        [255,   0,   0],\n        ...,\n        [  0, 255,   0],\n        [  0, 255,   0],\n        [  0, 255,   0]],\n\n       [[255,   0,   0],\n        [255,   0,   0],\n        [255,   0,   0],\n        ...,\n        [  0, 255,   0],\n        [  0, 255,   0],\n        [  0, 255,   0]],\n\n       [[255,   0,   0],\n        [255,   0,   0],\n        [255,   0,   0],\n        ...,\n        [  0, 255,   0],\n        [  0, 255,   0],\n        [  0, 255,   0]],\n\n       ...,\n\n       [[255,   0,   0],\n        [255,   0,   0],\n        [255,   0,   0],\n        ...,\n        [255,   0,   0],\n        [255,   0,   0],\n        [255,   0,   0]],\n\n       [[255,   0,   0],\n        [255,   0,   0],\n        [255,   0,   0],\n        ...,\n        [255,   0,   0],\n        [255,   0,   0],\n        [255,   0,   0]],\n\n       [[255,   0,   0],\n        [255,   0,   0],\n        [255,   0,   0],\n        ...,\n        [255,   0,   0],\n        [255,   0,   0],\n        [255,   0,   0]]], dtype=uint8)"
     },
     "execution_count": 6,
     "metadata": {},
     "output_type": "execute_result"
    }
   ],
   "source": [
    "# Show the training data\n",
    "thickness = -1\n",
    "cv.circle(image, (501,  10), 5, (  0,   0,   0), thickness)\n",
    "cv.circle(image, (255,  10), 5, (255, 255, 255), thickness)\n",
    "cv.circle(image, (501, 255), 5, (255, 255, 255), thickness)\n",
    "cv.circle(image, ( 10, 501), 5, (255, 255, 255), thickness)"
   ]
  },
  {
   "cell_type": "code",
   "execution_count": 7,
   "id": "3df7fb40-6ac9-4d33-a452-84a6a9c792a2",
   "metadata": {},
   "outputs": [],
   "source": [
    "# Show support vectors\n",
    "thickness = 2\n",
    "sv = svm.getUncompressedSupportVectors()\n",
    "for i in range(sv.shape[0]):\n",
    "    cv.circle(image, (int(sv[i,0]), int(sv[i,1])), 6, (128, 128, 128), thickness)"
   ]
  },
  {
   "cell_type": "code",
   "execution_count": 8,
   "id": "e55d83c0-e638-4485-bcc7-8444a90f002c",
   "metadata": {},
   "outputs": [],
   "source": [
    "cv.imshow('SVM Simple Example', image) # show it to the user\n",
    "if cv.waitKey(1) & 0xFF == ord(\"q\"):\n",
    "    cv.destroyAllWindows()"
   ]
  },
  {
   "cell_type": "code",
   "execution_count": 8,
   "id": "dd86d6d3-66f0-413d-94ed-80dd3b54bbd2",
   "metadata": {},
   "outputs": [],
   "source": []
  }
 ],
 "metadata": {
  "kernelspec": {
   "display_name": "Python 3 (ipykernel)",
   "language": "python",
   "name": "python3"
  },
  "language_info": {
   "codemirror_mode": {
    "name": "ipython",
    "version": 3
   },
   "file_extension": ".py",
   "mimetype": "text/x-python",
   "name": "python",
   "nbconvert_exporter": "python",
   "pygments_lexer": "ipython3",
   "version": "3.9.13"
  }
 },
 "nbformat": 4,
 "nbformat_minor": 5
}
